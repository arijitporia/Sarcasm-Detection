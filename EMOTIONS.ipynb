{
  "nbformat": 4,
  "nbformat_minor": 0,
  "metadata": {
    "colab": {
      "name": "EMOTIONS.ipynb",
      "provenance": [],
      "collapsed_sections": []
    },
    "kernelspec": {
      "name": "python3",
      "display_name": "Python 3"
    },
    "accelerator": "GPU"
  },
  "cells": [
    {
      "cell_type": "code",
      "metadata": {
        "id": "EXGS7WHrCO8M",
        "colab_type": "code",
        "colab": {}
      },
      "source": [
        "import pandas as pd\n",
        "import nltk\n",
        "from nltk.corpus import stopwords\n",
        "from  nltk.stem import SnowballStemmer\n",
        "import numpy as np\n",
        "import re\n",
        "import gensim\n",
        "from collections import defaultdict\n",
        "from sklearn.preprocessing import LabelEncoder"
      ],
      "execution_count": 0,
      "outputs": []
    },
    {
      "cell_type": "code",
      "metadata": {
        "id": "37h6ylbAyaHK",
        "colab_type": "code",
        "colab": {}
      },
      "source": [
        "nltk.download('stopwords')"
      ],
      "execution_count": 0,
      "outputs": []
    },
    {
      "cell_type": "code",
      "metadata": {
        "id": "C9L-Af1syiMH",
        "colab_type": "code",
        "colab": {}
      },
      "source": [
        "TEXT_CLEANING_RE = \"@\\S+|https?:\\S+|http?:\\S|[^A-Za-z!]+\"\n",
        "DATASET_ENCODING = \"ISO-8859-1\""
      ],
      "execution_count": 0,
      "outputs": []
    },
    {
      "cell_type": "code",
      "metadata": {
        "id": "eDH87x7HyjcZ",
        "colab_type": "code",
        "colab": {}
      },
      "source": [
        "stop_words = stopwords.words(\"english\")\n",
        "stemmer = SnowballStemmer(\"english\")"
      ],
      "execution_count": 0,
      "outputs": []
    },
    {
      "cell_type": "code",
      "metadata": {
        "id": "Pqyf3ZsRzIV_",
        "colab_type": "code",
        "colab": {}
      },
      "source": [
        "df = pd.read_csv('/content/drive/My Drive/emotion_augmented.csv' )"
      ],
      "execution_count": 0,
      "outputs": []
    },
    {
      "cell_type": "code",
      "metadata": {
        "id": "-ZWyN1fXcwrt",
        "colab_type": "code",
        "colab": {}
      },
      "source": [
        "abbr={\"ain't\": \"is not\", \"isn't\": 'is not',\"cannot\": \"can not\", \"aren't\": \"are not\", \"can't\": \"can not\", \"'cause\": \"because\", \"could've\": \"could have\", \"couldn't\": \"could not\", \"didn't\": \"did not\",\n",
        "                \"doesn't\": \"does not\", \"don't\": \"do not\", \"hadn't\": \"had not\", \"hasn't\": \"has not\", \"haven't\": \"have not\", \"he'd\": \"he would\", \"he'll\": \"he will\", \"he's\": \"he is\", \"how'd\": \"how did\",\n",
        "                \"how'd'y\": \"how do you\", \"how'll\": \"how will\", \"how's\": \"how is\", \"I'd\": \"I would\", \"I'd've\": \"I would have\", \"I'll\": \"I will\", \"I'll've\": \"I will have\", \"I'm\": \"I am\",\n",
        "                \"I've\": \"I have\", \"i'd\": \"i would\", \"i'd've\": \"i would have\", \"i'll\": \"i will\", \"i'll've\": \"i will have\", \"i'm\": \"i am\", \"i've\": \"i have\", \"isn't\": \"is not\", \"it'd\": \"it would\",\n",
        "                \"it'd've\": \"it would have\", \"it'll\": \"it will\", \"it'll've\": \"it will have\", \"it's\": \"it is\", \"let's\": \"let us\", \"ma'am\": \"madam\", \"mayn't\": \"may not\", \"might've\": \"might have\",\n",
        "                \"mightn't\": \"might not\", \"mightn't've\": \"might not have\", \"must've\": \"must have\", \"mustn't\": \"must not\", \"mustn't've\": \"must not have\", \"needn't\": \"need not\",\n",
        "                \"needn't've\": \"need not have\", \"o'clock\": \"of the clock\", \"oughtn't\": \"ought not\", \"oughtn't've\": \"ought not have\", \"shan't\": \"shall not\", \"sha'n't\": \"shall not\",\n",
        "                \"shan't've\": \"shall not have\", \"she'd\": \"she would\", \"she'd've\": \"she would have\", \"she'll\": \"she will\", \"she'll've\": \"she will have\", \"she's\": \"she is\",\n",
        "                \"should've\": \"should have\", \"shouldn't\": \"should not\", \"shouldn't've\": \"should not have\", \"so've\": \"so have\", \"so's\": \"so as\", \"this's\": \"this is\", \"that'd\": \"that would\",\n",
        "                \"that'd've\": \"that would have\", \"that's\": \"that is\", \"there'd\": \"there would\", \"there'd've\": \"there would have\", \"there's\": \"there is\", \"here's\": \"here is\", \"they'd\": \"they would\",\n",
        "                \"they'd've\": \"they would have\", \"they'll\": \"they will\", \"they'll've\": \"they will have\", \"they're\": \"they are\", \"they've\": \"they have\", \"to've\": \"to have\", \"wasn't\": \"was not\",\n",
        "                \"we'd\": \"we would\", \"we'd've\": \"we would have\", \"we'll\": \"we will\", \"we'll've\": \"we will have\", \"we're\": \"we are\", \"we've\": \"we have\", \"weren't\": \"were not\",\n",
        "                \"what'll\": \"what will\", \"what'll've\": \"what will have\", \"what're\": \"what are\", \"what's\": \"what is\", \"what've\": \"what have\", \"when's\": \"when is\", \"when've\": \"when have\",\n",
        "                \"where'd\": \"where did\", \"where's\": \"where is\", \"where've\": \"where have\", \"who'll\": \"who will\", \"who'll've\": \"who will have\", \"who's\": \"who is\", \"who've\": \"who have\",\n",
        "                \"why's\": \"why is\", \"why've\": \"why have\", \"will've\": \"will have\", \"won't\": \"will not\", \"wont\": \"will not\", \"won't've\": \"will not have\", \"would've\": \"would have\",\n",
        "                \"wouldn't\": \"would not\", \"wouldn't've\": \"would not have\", \"y'all\": \"you all\", \"y'all'd\": \"you all would\", \"y'all'd've\": \"you all would have\", \"y'all're\": \"you all are\", \"y'all've\": \"you all have\",\n",
        "                \"you'd\": \"you would\", \"you'd've\": \"you would have\", \"you'll\": \"you will\", \"you'll've\": \"you will have\", \"you're\": \"you are\", \"you've\": \"you have\", 'colour': 'color',\n",
        "                'centre': 'center', 'favourite': 'favorite', 'travelling': 'traveling', 'counselling': 'counseling', 'theatre': 'theater', 'cancelled': 'canceled', 'labour': 'labor',\n",
        "                'organisation': 'organization', 'wwii': 'world war 2', 'citicise': 'criticize', 'youtu ': 'youtube ', 'Qoura': 'Quora', 'sallary': 'salary', 'Whta': 'What', '2F4U':\t'Too Fast For You',\n",
        "                'narcisist': 'narcissist', 'howdo': 'how do', 'whatare': 'what are', 'howcan': 'how can', 'howmuch': 'how much', 'howmany': 'how many', 'whydo': 'why do', 'doI': 'do I',\n",
        "                'theBest': 'the best', 'howdoes': 'how does', 'Etherium': 'Ethereum', 'narcissit': 'narcissist', 'bigdata': 'big data', '2k17': '2017', '2k18': '2018', 'qouta': 'quota', 'exboyfriend': 'ex boyfriend', 'airhostess': 'air hostess', \"whst\": 'what',\n",
        "                'watsapp': 'whatsapp', 'demonitisation': 'demonetization', 'demonitization': 'demonetization', 'demonetisation': 'demonetization', 'AKA':\t'also known as', 'ACK':\t'Acknowledgment', 'AFAIK':\t'As far as I know', 'AFAIR':\t'As far as I remember'}\n",
        "\n",
        "abbr = {k.lower(): v.lower() for k, v in abbr.items()}"
      ],
      "execution_count": 0,
      "outputs": []
    },
    {
      "cell_type": "code",
      "metadata": {
        "id": "74-xMwpzc1C2",
        "colab_type": "code",
        "colab": {}
      },
      "source": [
        "def normalize_word(word):\n",
        "    temp = word\n",
        "    while True:\n",
        "        w = re.sub(r\"([a-zA-Z])\\1\\1\", r\"\\1\\1\", temp)\n",
        "        if (w == temp):\n",
        "            break\n",
        "        else:\n",
        "            temp = w\n",
        "    return w"
      ],
      "execution_count": 0,
      "outputs": []
    },
    {
      "cell_type": "code",
      "metadata": {
        "id": "j_fFKiWuc17j",
        "colab_type": "code",
        "colab": {}
      },
      "source": [
        "def preprocess(text,abbreviation_dict=abbr, stem=False):\n",
        "    # Remove link,user and special characters\n",
        "    text = re.sub(TEXT_CLEANING_RE, ' ', str(text).lower()).strip()\n",
        "\n",
        "    filtered_text=[]\n",
        "    for t in text.split(' '):\n",
        "        if (t in abbreviation_dict):\n",
        "            tok = abbreviation_dict.get(t).split(' ')\n",
        "            filtered_text.extend(tok)\n",
        "        else:\n",
        "            filtered_text.append(t)\n",
        "\n",
        "    tokee=[normalize_word(word) for word in filtered_text]\n",
        "    tokee=[t for t in tokee if t not in stop_words]\n",
        "\n",
        "    tokens = []\n",
        "    for token in tokee:\n",
        "        if stem:\n",
        "            tokens.append(stemmer.stem(token))\n",
        "        else:\n",
        "            tokens.append(token)\n",
        "    ll=['b','c','d','e','f','g','h','j','k','l','m','n','o','p','q','r','s','t','u','v','w','x','y','z']\n",
        "    tokens=[g for g in tokens if g not in ll]\n",
        "    if len(tokens)>=1:\n",
        "        return \" \".join(tokens)\n",
        "    else:\n",
        "        return float('NaN')\n",
        "df.sentence = df.sentence.apply(lambda x: preprocess(x))"
      ],
      "execution_count": 0,
      "outputs": []
    },
    {
      "cell_type": "code",
      "metadata": {
        "id": "90sz0Kowc6Pk",
        "colab_type": "code",
        "colab": {}
      },
      "source": [
        "df=df.dropna(axis=0,how='any')"
      ],
      "execution_count": 0,
      "outputs": []
    },
    {
      "cell_type": "code",
      "metadata": {
        "id": "e8JgbAWJDwOU",
        "colab_type": "code",
        "outputId": "901e13e1-7a37-4ca3-9628-6eac08a741fa",
        "colab": {
          "base_uri": "https://localhost:8080/",
          "height": 34
        }
      },
      "source": [
        "import tensorflow as tf\n",
        "from tensorflow.keras.preprocessing.text import Tokenizer\n",
        "from tensorflow.keras.preprocessing.sequence import pad_sequences\n",
        "tokenizer = Tokenizer()\n",
        "tokenizer.fit_on_texts(df.sentence)\n",
        "\n",
        "vocab_size = len(tokenizer.word_index) + 1\n",
        "print(\"Total words\", vocab_size)"
      ],
      "execution_count": 11,
      "outputs": [
        {
          "output_type": "stream",
          "text": [
            "Total words 14351\n"
          ],
          "name": "stdout"
        }
      ]
    },
    {
      "cell_type": "code",
      "metadata": {
        "id": "EsbklHB-b8PP",
        "colab_type": "code",
        "outputId": "b610b4e4-0590-4fa7-b480-ff6e5b0f243c",
        "colab": {
          "base_uri": "https://localhost:8080/",
          "height": 34
        }
      },
      "source": [
        "max([len(s.split(' ')) for s in list(df['sentence']) ])"
      ],
      "execution_count": 0,
      "outputs": [
        {
          "output_type": "execute_result",
          "data": {
            "text/plain": [
              "99"
            ]
          },
          "metadata": {
            "tags": []
          },
          "execution_count": 12
        }
      ]
    },
    {
      "cell_type": "code",
      "metadata": {
        "id": "OljN7ECoEJiq",
        "colab_type": "code",
        "colab": {}
      },
      "source": [
        "X = pad_sequences(tokenizer.texts_to_sequences(df.sentence), maxlen=400)"
      ],
      "execution_count": 0,
      "outputs": []
    },
    {
      "cell_type": "code",
      "metadata": {
        "id": "DX6PKDFgFq23",
        "colab_type": "code",
        "colab": {}
      },
      "source": [
        "encoder = LabelEncoder()\n",
        "encoder.fit(df['label'].tolist())\n",
        "y = encoder.transform(df['label'].tolist())\n",
        "y = y.reshape(-1,1)"
      ],
      "execution_count": 0,
      "outputs": []
    },
    {
      "cell_type": "code",
      "metadata": {
        "id": "jkJzHdg8cGJm",
        "colab_type": "code",
        "outputId": "b4cb509c-889d-4c6e-b54c-82c2cb26001c",
        "colab": {
          "base_uri": "https://localhost:8080/",
          "height": 34
        }
      },
      "source": [
        "embeddings_index = dict()\n",
        "f = open('/content/drive/My Drive/glove.6B.300d.txt')\n",
        "for line in f:\n",
        "\tvalues = line.split()\n",
        "\tword = values[0]\n",
        "\tcoefs = np.asarray(values[1:], dtype='float32')\n",
        "\tembeddings_index[word] = coefs\n",
        "f.close()\n",
        "print('Loaded %s word vectors.' % len(embeddings_index))"
      ],
      "execution_count": 12,
      "outputs": [
        {
          "output_type": "stream",
          "text": [
            "Loaded 400000 word vectors.\n"
          ],
          "name": "stdout"
        }
      ]
    },
    {
      "cell_type": "code",
      "metadata": {
        "id": "FgUPcRzddPd3",
        "colab_type": "code",
        "colab": {}
      },
      "source": [
        "# create a weight matrix for words in training docs\n",
        "embedding_matrix = np.zeros((vocab_size, 300))\n",
        "for word, i in tokenizer.word_index.items():\n",
        "\tembedding_vector = embeddings_index.get(word)\n",
        "\tif embedding_vector is not None:\n",
        "\t\tembedding_matrix[i] = embedding_vector"
      ],
      "execution_count": 0,
      "outputs": []
    },
    {
      "cell_type": "code",
      "metadata": {
        "id": "Plh0YE3rGSl9",
        "colab_type": "code",
        "colab": {}
      },
      "source": [
        "from tensorflow.keras.models import Sequential\n",
        "from tensorflow.keras.layers import Activation, BatchNormalization, Dense, Dropout, Embedding, Flatten, Conv1D, MaxPooling1D, Embedding\n",
        "from tensorflow.keras import utils\n",
        "from tensorflow.keras.callbacks import ReduceLROnPlateau, EarlyStopping\n",
        "import tensorflow"
      ],
      "execution_count": 0,
      "outputs": []
    },
    {
      "cell_type": "code",
      "metadata": {
        "id": "DoWnrrd2cM6u",
        "colab_type": "code",
        "colab": {}
      },
      "source": [
        "embedding_layer = Embedding(vocab_size, 300, weights=[embedding_matrix], input_length=400, trainable=False)"
      ],
      "execution_count": 0,
      "outputs": []
    },
    {
      "cell_type": "code",
      "metadata": {
        "id": "ztG6X5_EGWNP",
        "colab_type": "code",
        "outputId": "53abe8ae-04ee-4858-8f66-511a4322d679",
        "colab": {
          "base_uri": "https://localhost:8080/",
          "height": 357
        }
      },
      "source": [
        "model = Sequential()\n",
        "model.add(embedding_layer)\n",
        "model.add(Conv1D(filters=128, kernel_size=3, activation='relu'))\n",
        "#model.add(MaxPooling1D(pool_size=2))\n",
        "#model.add(Conv1D(filters=256, kernel_size=3, activation='relu'))\n",
        "#model.add(MaxPooling1D(pool_size=2))\n",
        "model.add(Dropout(0.25))\n",
        "model.add(Flatten())\n",
        "model.add(Dense(64, activation='relu'))\n",
        "model.add(Dense(7, activation='softmax'))\n",
        "model.summary()"
      ],
      "execution_count": 0,
      "outputs": [
        {
          "output_type": "stream",
          "text": [
            "Model: \"sequential\"\n",
            "_________________________________________________________________\n",
            "Layer (type)                 Output Shape              Param #   \n",
            "=================================================================\n",
            "embedding (Embedding)        (None, 400, 300)          4305300   \n",
            "_________________________________________________________________\n",
            "conv1d (Conv1D)              (None, 398, 128)          115328    \n",
            "_________________________________________________________________\n",
            "dropout (Dropout)            (None, 398, 128)          0         \n",
            "_________________________________________________________________\n",
            "flatten (Flatten)            (None, 50944)             0         \n",
            "_________________________________________________________________\n",
            "dense (Dense)                (None, 64)                3260480   \n",
            "_________________________________________________________________\n",
            "dense_1 (Dense)              (None, 7)                 455       \n",
            "=================================================================\n",
            "Total params: 7,681,563\n",
            "Trainable params: 3,376,263\n",
            "Non-trainable params: 4,305,300\n",
            "_________________________________________________________________\n"
          ],
          "name": "stdout"
        }
      ]
    },
    {
      "cell_type": "code",
      "metadata": {
        "id": "OnoQ_39oGfp8",
        "colab_type": "code",
        "colab": {}
      },
      "source": [
        "model.compile(loss='sparse_categorical_crossentropy',\n",
        "              optimizer=\"adam\",\n",
        "              metrics=['accuracy'])"
      ],
      "execution_count": 0,
      "outputs": []
    },
    {
      "cell_type": "code",
      "metadata": {
        "id": "p_nVpeU3Glih",
        "colab_type": "code",
        "outputId": "8a4e6ffc-d93c-430d-bea2-80fb5a6326a8",
        "colab": {
          "base_uri": "https://localhost:8080/",
          "height": 717
        }
      },
      "source": [
        "history = model.fit(X,y,\n",
        "                    batch_size=512,\n",
        "                    epochs=20,\n",
        "                    validation_split=0.2,\n",
        "                    verbose=1)"
      ],
      "execution_count": 0,
      "outputs": [
        {
          "output_type": "stream",
          "text": [
            "Epoch 1/20\n",
            "132/132 [==============================] - 12s 88ms/step - loss: 1.3103 - accuracy: 0.5168 - val_loss: 1.2939 - val_accuracy: 0.5351\n",
            "Epoch 2/20\n",
            "132/132 [==============================] - 11s 86ms/step - loss: 0.8029 - accuracy: 0.7231 - val_loss: 1.2758 - val_accuracy: 0.5570\n",
            "Epoch 3/20\n",
            "132/132 [==============================] - 11s 86ms/step - loss: 0.5817 - accuracy: 0.8055 - val_loss: 1.2773 - val_accuracy: 0.5726\n",
            "Epoch 4/20\n",
            "132/132 [==============================] - 11s 86ms/step - loss: 0.4503 - accuracy: 0.8520 - val_loss: 1.2709 - val_accuracy: 0.5859\n",
            "Epoch 5/20\n",
            "132/132 [==============================] - 11s 86ms/step - loss: 0.3655 - accuracy: 0.8805 - val_loss: 1.2394 - val_accuracy: 0.6068\n",
            "Epoch 6/20\n",
            "132/132 [==============================] - 11s 86ms/step - loss: 0.3088 - accuracy: 0.8993 - val_loss: 1.2127 - val_accuracy: 0.6234\n",
            "Epoch 7/20\n",
            "132/132 [==============================] - 11s 86ms/step - loss: 0.2735 - accuracy: 0.9095 - val_loss: 1.1769 - val_accuracy: 0.6358\n",
            "Epoch 8/20\n",
            "132/132 [==============================] - 11s 85ms/step - loss: 0.2466 - accuracy: 0.9184 - val_loss: 1.1425 - val_accuracy: 0.6514\n",
            "Epoch 9/20\n",
            "132/132 [==============================] - 11s 86ms/step - loss: 0.2232 - accuracy: 0.9261 - val_loss: 1.1062 - val_accuracy: 0.6645\n",
            "Epoch 10/20\n",
            "132/132 [==============================] - 11s 86ms/step - loss: 0.2031 - accuracy: 0.9315 - val_loss: 1.0799 - val_accuracy: 0.6777\n",
            "Epoch 11/20\n",
            "132/132 [==============================] - 11s 85ms/step - loss: 0.1901 - accuracy: 0.9347 - val_loss: 1.0623 - val_accuracy: 0.6889\n",
            "Epoch 12/20\n",
            "132/132 [==============================] - 11s 85ms/step - loss: 0.1790 - accuracy: 0.9387 - val_loss: 1.0407 - val_accuracy: 0.6950\n",
            "Epoch 13/20\n",
            "132/132 [==============================] - 11s 86ms/step - loss: 0.1676 - accuracy: 0.9417 - val_loss: 1.0701 - val_accuracy: 0.7070\n",
            "Epoch 14/20\n",
            "132/132 [==============================] - 11s 86ms/step - loss: 0.1571 - accuracy: 0.9465 - val_loss: 1.0742 - val_accuracy: 0.7046\n",
            "Epoch 15/20\n",
            "132/132 [==============================] - 11s 85ms/step - loss: 0.1498 - accuracy: 0.9483 - val_loss: 1.0709 - val_accuracy: 0.7108\n",
            "Epoch 16/20\n",
            "132/132 [==============================] - 11s 85ms/step - loss: 0.1418 - accuracy: 0.9504 - val_loss: 0.9968 - val_accuracy: 0.7262\n",
            "Epoch 17/20\n",
            "132/132 [==============================] - 11s 85ms/step - loss: 0.1366 - accuracy: 0.9522 - val_loss: 1.0224 - val_accuracy: 0.7270\n",
            "Epoch 18/20\n",
            "132/132 [==============================] - 11s 84ms/step - loss: 0.1348 - accuracy: 0.9527 - val_loss: 1.0287 - val_accuracy: 0.7347\n",
            "Epoch 19/20\n",
            "132/132 [==============================] - 11s 85ms/step - loss: 0.1303 - accuracy: 0.9542 - val_loss: 1.0180 - val_accuracy: 0.7343\n",
            "Epoch 20/20\n",
            "132/132 [==============================] - 11s 84ms/step - loss: 0.1271 - accuracy: 0.9558 - val_loss: 1.0205 - val_accuracy: 0.7360\n"
          ],
          "name": "stdout"
        }
      ]
    },
    {
      "cell_type": "code",
      "metadata": {
        "id": "aFC-IJNfaFzy",
        "colab_type": "code",
        "outputId": "ac4d02ea-b8eb-44ba-fe84-11799ec4f887",
        "colab": {
          "base_uri": "https://localhost:8080/",
          "height": 281
        }
      },
      "source": [
        "from matplotlib import pyplot\n",
        "pyplot.plot(history.history['accuracy'], label='train')\n",
        "pyplot.plot(history.history['val_accuracy'], label='test')\n",
        "pyplot.legend()\n",
        "pyplot.title('Accuracy')\n",
        "pyplot.show()"
      ],
      "execution_count": 0,
      "outputs": [
        {
          "output_type": "display_data",
          "data": {
            "image/png": "[encoded data removed]",
            "text/plain": [
              "<Figure size 432x288 with 1 Axes>"
            ]
          },
          "metadata": {
            "tags": [],
            "needs_background": "light"
          }
        }
      ]
    },
    {
      "cell_type": "code",
      "metadata": {
        "id": "jBhSklHuauKr",
        "colab_type": "code",
        "colab": {}
      },
      "source": [
        "model.save('/content/drive/My Drive/CNNemotion.h5') "
      ],
      "execution_count": 0,
      "outputs": []
    },
    {
      "cell_type": "code",
      "metadata": {
        "id": "RiTDPYiXa0Dv",
        "colab_type": "code",
        "colab": {}
      },
      "source": [
        "model = tf.keras.models.load_model('/content/drive/My Drive/CNNemotion.h5')"
      ],
      "execution_count": 0,
      "outputs": []
    },
    {
      "cell_type": "code",
      "metadata": {
        "id": "g1U35wSrjy5A",
        "colab_type": "code",
        "colab": {}
      },
      "source": [
        "df1 = pd.read_csv('/content/drive/My Drive/sarcastic_comments_final.csv')"
      ],
      "execution_count": 0,
      "outputs": []
    },
    {
      "cell_type": "code",
      "metadata": {
        "id": "93EUe9aBj7Z_",
        "colab_type": "code",
        "colab": {}
      },
      "source": [
        "def preprocess(text,abbreviation_dict=abbr, stem=False):\n",
        "    # Remove link,user and special characters\n",
        "    text = re.sub(TEXT_CLEANING_RE, ' ', str(text).lower()).strip()\n",
        "\n",
        "    filtered_text=[]\n",
        "    for t in text.split(' '):\n",
        "        if (t in abbreviation_dict):\n",
        "            tok = abbreviation_dict.get(t).split(' ')\n",
        "            filtered_text.extend(tok)\n",
        "        else:\n",
        "            filtered_text.append(t)\n",
        "\n",
        "    tokee=[normalize_word(word) for word in filtered_text]\n",
        "    tokee=[t for t in tokee if t not in stop_words]\n",
        "\n",
        "    tokens = []\n",
        "    for token in tokee:\n",
        "        if stem:\n",
        "            tokens.append(stemmer.stem(token))\n",
        "        else:\n",
        "            tokens.append(token)\n",
        "    ll=['b','c','d','e','f','g','h','j','k','l','m','n','o','p','q','r','s','t','u','v','w','x','y','z']\n",
        "    tokens=[g for g in tokens if g not in ll]\n",
        "    if len(tokens)>=1:\n",
        "        return \" \".join(tokens)\n",
        "    else:\n",
        "        return float('NaN')\n",
        "df1.comment = df1.comment.apply(lambda x: preprocess(x))"
      ],
      "execution_count": 0,
      "outputs": []
    },
    {
      "cell_type": "code",
      "metadata": {
        "id": "uK3ItWG_j-vi",
        "colab_type": "code",
        "colab": {}
      },
      "source": [
        "df1=df1.dropna(axis=0,how='any')"
      ],
      "execution_count": 0,
      "outputs": []
    },
    {
      "cell_type": "code",
      "metadata": {
        "id": "xTxbQ8AVkB3l",
        "colab_type": "code",
        "colab": {}
      },
      "source": [
        "X1 = pad_sequences(tokenizer.texts_to_sequences(df1.comment), maxlen=400)"
      ],
      "execution_count": 0,
      "outputs": []
    },
    {
      "cell_type": "code",
      "metadata": {
        "id": "jCEjXvMHkHSz",
        "colab_type": "code",
        "colab": {}
      },
      "source": [
        "import tensorflow\n",
        "new_input = model.input\n",
        "hidden_layer = model.layers[-2].output\n",
        "\n",
        "features_extract_model = tensorflow.keras.Model(new_input, hidden_layer)\n",
        "features_extract_model.trainable=False"
      ],
      "execution_count": 0,
      "outputs": []
    },
    {
      "cell_type": "code",
      "metadata": {
        "id": "a7CIHaI9kJm7",
        "colab_type": "code",
        "outputId": "0304f2cc-30e4-4a40-ffbc-3821877189f2",
        "colab": {
          "base_uri": "https://localhost:8080/",
          "height": 34
        }
      },
      "source": [
        "tf.executing_eagerly()"
      ],
      "execution_count": 22,
      "outputs": [
        {
          "output_type": "execute_result",
          "data": {
            "text/plain": [
              "True"
            ]
          },
          "metadata": {
            "tags": []
          },
          "execution_count": 22
        }
      ]
    },
    {
      "cell_type": "code",
      "metadata": {
        "id": "W5mnHDV9kLbm",
        "colab_type": "code",
        "colab": {}
      },
      "source": [
        "I=[i for i in range(0,X1.shape[0],1000)]\n",
        "I.append(X1.shape[0])"
      ],
      "execution_count": 0,
      "outputs": []
    },
    {
      "cell_type": "code",
      "metadata": {
        "id": "omCF-UUjkOcq",
        "colab_type": "code",
        "colab": {}
      },
      "source": [
        "NDF=pd.DataFrame(columns=[str(t) for t in range(64)])\n",
        "for i in range(len(I[0:-1])):\n",
        "    x=tf.convert_to_tensor(X1[I[i]:I[i+1]])\n",
        "    z=features_extract_model(x)\n",
        "    ndf=pd.DataFrame(z.numpy(),columns=[str(t) for t in range(64)])\n",
        "    lst = [NDF, ndf]\n",
        "    NDF = pd.concat(lst)"
      ],
      "execution_count": 0,
      "outputs": []
    },
    {
      "cell_type": "code",
      "metadata": {
        "id": "dltsRUrDwLCj",
        "colab_type": "code",
        "colab": {}
      },
      "source": [
        "NDF=NDF.loc[:, (NDF!=0.0).any(axis=0)]"
      ],
      "execution_count": 0,
      "outputs": []
    },
    {
      "cell_type": "code",
      "metadata": {
        "id": "lck_WIYxkQmr",
        "colab_type": "code",
        "colab": {}
      },
      "source": [
        "NDF.to_csv('/content/drive/My Drive/emotion_extracted.csv')"
      ],
      "execution_count": 0,
      "outputs": []
    }
  ]
}