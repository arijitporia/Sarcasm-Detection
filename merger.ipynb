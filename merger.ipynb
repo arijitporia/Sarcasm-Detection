{
  "nbformat": 4,
  "nbformat_minor": 0,
  "metadata": {
    "colab": {
      "name": "merger.ipynb",
      "provenance": [],
      "collapsed_sections": [],
      "machine_shape": "hm"
    },
    "kernelspec": {
      "name": "python3",
      "display_name": "Python 3"
    }
  },
  "cells": [
    {
      "cell_type": "code",
      "metadata": {
        "id": "_cm_fRlZ-vgy",
        "colab_type": "code",
        "colab": {}
      },
      "source": [
        "import pandas as pd"
      ],
      "execution_count": 0,
      "outputs": []
    },
    {
      "cell_type": "code",
      "metadata": {
        "id": "2lGwnLjD_AVj",
        "colab_type": "code",
        "colab": {}
      },
      "source": [
        "df1=pd.read_csv('/content/drive/My Drive/sarcastic_comments_imbal_extracted.csv',index_col=0)\n",
        "df2=pd.read_csv('/content/drive/My Drive/sentiment_imbal_extracted.csv',index_col=0)\n",
        "df3=pd.read_csv('/content/drive/My Drive/emotion_imbal_extracted.csv',index_col=0)\n",
        "df4=pd.read_csv('/content/drive/My Drive/personality_ext_imbal.csv',index_col=0)\n",
        "df5=pd.read_csv('/content/drive/My Drive/personality_neu_imbal.csv',index_col=0)\n",
        "df6=pd.read_csv('/content/drive/My Drive/personality_agr_imbal.csv',index_col=0)\n",
        "df7=pd.read_csv('/content/drive/My Drive/personality_con_imbal.csv',index_col=0)\n",
        "df8=pd.read_csv('/content/drive/My Drive/personality_opn_imbal.csv',index_col=0)"
      ],
      "execution_count": 0,
      "outputs": []
    },
    {
      "cell_type": "code",
      "metadata": {
        "id": "g-OK84lXC2nL",
        "colab_type": "code",
        "colab": {}
      },
      "source": [
        "l1=[list(df1[i]) for i in df1.columns]\n",
        "l2=[list(df2[i]) for i in df2.columns]\n",
        "l3=[list(df3[i]) for i in df3.columns]\n",
        "l4=[list(df4[i]) for i in df4.columns]\n",
        "l5=[list(df5[i]) for i in df5.columns]\n",
        "l6=[list(df6[i]) for i in df6.columns]\n",
        "l7=[list(df7[i]) for i in df7.columns]\n",
        "l8=[list(df8[i]) for i in df8.columns]"
      ],
      "execution_count": 0,
      "outputs": []
    },
    {
      "cell_type": "code",
      "metadata": {
        "id": "fHBNaLJUEhTs",
        "colab_type": "code",
        "colab": {}
      },
      "source": [
        "l=l1+l2+l3+l4+l5+l6+l7+l8"
      ],
      "execution_count": 0,
      "outputs": []
    },
    {
      "cell_type": "code",
      "metadata": {
        "id": "ANyWyhsVieNf",
        "colab_type": "code",
        "colab": {}
      },
      "source": [
        "l=l1"
      ],
      "execution_count": 0,
      "outputs": []
    },
    {
      "cell_type": "code",
      "metadata": {
        "id": "y44w1f8-Eoi2",
        "colab_type": "code",
        "colab": {}
      },
      "source": [
        "I=[i for i in range(len(l))]"
      ],
      "execution_count": 0,
      "outputs": []
    },
    {
      "cell_type": "code",
      "metadata": {
        "id": "RBZNtyd4E5S8",
        "colab_type": "code",
        "colab": {}
      },
      "source": [
        "D=dict(zip(I,l))"
      ],
      "execution_count": 0,
      "outputs": []
    },
    {
      "cell_type": "code",
      "metadata": {
        "id": "q0y-7N-AFGY4",
        "colab_type": "code",
        "colab": {}
      },
      "source": [
        "DF=pd.DataFrame(D)"
      ],
      "execution_count": 0,
      "outputs": []
    },
    {
      "cell_type": "code",
      "metadata": {
        "id": "rH62r13tz4jz",
        "colab_type": "code",
        "colab": {}
      },
      "source": [
        "dfl=pd.read_csv('/content/drive/My Drive/sarcastic_comments_imbal_labels.csv',index_col=0)"
      ],
      "execution_count": 0,
      "outputs": []
    },
    {
      "cell_type": "code",
      "metadata": {
        "id": "vd22nPmtz9jH",
        "colab_type": "code",
        "colab": {}
      },
      "source": [
        "y = dfl.label\n",
        "X = DF"
      ],
      "execution_count": 0,
      "outputs": []
    },
    {
      "cell_type": "code",
      "metadata": {
        "id": "at2AxCghz_3r",
        "colab_type": "code",
        "colab": {
          "base_uri": "https://localhost:8080/",
          "height": 90
        },
        "outputId": "0fc6ed7b-a187-4f5a-bb28-64ab07ef81e1"
      },
      "source": [
        "from sklearn import svm\n",
        "from sklearn.model_selection import cross_validate, cross_val_score\n",
        "SVM = svm.LinearSVC()\n",
        "cv_results = cross_validate(SVM, X, y, cv=2, scoring=('f1_weighted'),return_train_score=True)\n",
        "cv_results"
      ],
      "execution_count": 84,
      "outputs": [
        {
          "output_type": "execute_result",
          "data": {
            "text/plain": [
              "{'fit_time': array([142.03510714, 155.92306447]),\n",
              " 'score_time': array([0.15744376, 0.14633632]),\n",
              " 'test_score': array([0.76827916, 0.76879587]),\n",
              " 'train_score': array([0.7681249 , 0.76896422])}"
            ]
          },
          "metadata": {
            "tags": []
          },
          "execution_count": 84
        }
      ]
    },
    {
      "cell_type": "code",
      "metadata": {
        "id": "IbnWsMW5cZCI",
        "colab_type": "code",
        "colab": {}
      },
      "source": [
        "DF.to_csv('/content/drive/My Drive/sarcasm_sentiment_emotion_personality_extracted.csv')"
      ],
      "execution_count": 0,
      "outputs": []
    }
  ]
}